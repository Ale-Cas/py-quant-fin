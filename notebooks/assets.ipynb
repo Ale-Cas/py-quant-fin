{
 "cells": [
  {
   "cell_type": "code",
   "execution_count": 1,
   "metadata": {},
   "outputs": [],
   "source": [
    "%load_ext autoreload\n",
    "%autoreload 2"
   ]
  },
  {
   "cell_type": "code",
   "execution_count": 36,
   "metadata": {},
   "outputs": [],
   "source": [
    "from quantfin.market.assets import AssetClasses, Stock, Cash, Currencies"
   ]
  },
  {
   "cell_type": "code",
   "execution_count": 37,
   "metadata": {},
   "outputs": [
    {
     "name": "stdout",
     "output_type": "stream",
     "text": [
      "Cash in EUR\n"
     ]
    }
   ],
   "source": [
    "cash = Cash(currency=Currencies.EUR)\n",
    "print(cash)"
   ]
  },
  {
   "cell_type": "code",
   "execution_count": 8,
   "metadata": {},
   "outputs": [
    {
     "name": "stdout",
     "output_type": "stream",
     "text": [
      "Cash in Currencies.EUR\n"
     ]
    }
   ],
   "source": [
    "cash1 = Cash(currency=\"EUR\")\n",
    "print(cash)"
   ]
  },
  {
   "cell_type": "code",
   "execution_count": 40,
   "metadata": {},
   "outputs": [
    {
     "data": {
      "text/plain": [
       "'EUR'"
      ]
     },
     "execution_count": 40,
     "metadata": {},
     "output_type": "execute_result"
    }
   ],
   "source": [
    "repr(cash1)"
   ]
  },
  {
   "cell_type": "code",
   "execution_count": 41,
   "metadata": {},
   "outputs": [
    {
     "data": {
      "text/plain": [
       "{EUR: 1.0}"
      ]
     },
     "execution_count": 41,
     "metadata": {},
     "output_type": "execute_result"
    }
   ],
   "source": [
    "cash_dict = {cash:1.0}\n",
    "cash_dict"
   ]
  },
  {
   "cell_type": "code",
   "execution_count": 10,
   "metadata": {},
   "outputs": [
    {
     "data": {
      "text/plain": [
       "{Currencies.EUR: 1.0}"
      ]
     },
     "execution_count": 10,
     "metadata": {},
     "output_type": "execute_result"
    }
   ],
   "source": [
    "from quantfin.portfolio_selection.portfolio import Portfolio\n",
    "ptf = Portfolio()\n",
    "ptf.holdings"
   ]
  },
  {
   "cell_type": "code",
   "execution_count": 23,
   "metadata": {},
   "outputs": [
    {
     "data": {
      "text/plain": [
       "True"
      ]
     },
     "execution_count": 23,
     "metadata": {},
     "output_type": "execute_result"
    }
   ],
   "source": [
    "cash.is_in_portfolio(portfolio=ptf)"
   ]
  },
  {
   "cell_type": "code",
   "execution_count": 24,
   "metadata": {},
   "outputs": [
    {
     "data": {
      "text/plain": [
       "1.0"
      ]
     },
     "execution_count": 24,
     "metadata": {},
     "output_type": "execute_result"
    }
   ],
   "source": [
    "cash.get_weight_in_portfolio(portfolio=ptf)"
   ]
  },
  {
   "cell_type": "code",
   "execution_count": 35,
   "metadata": {},
   "outputs": [
    {
     "data": {
      "text/plain": [
       "False"
      ]
     },
     "execution_count": 35,
     "metadata": {},
     "output_type": "execute_result"
    }
   ],
   "source": [
    "ptf1 = Portfolio(\n",
    "        holdings={\n",
    "            Stock(ticker=\"AAPL\"): 0.3,\n",
    "            Stock(ticker=\"MSFT\"): 0.3,\n",
    "            Stock(ticker=\"GOOG\"): 0.4,\n",
    "        }\n",
    "    )\n",
    "cash.is_in_portfolio(portfolio=ptf1)"
   ]
  },
  {
   "cell_type": "code",
   "execution_count": 36,
   "metadata": {},
   "outputs": [],
   "source": [
    "apple = Stock(ticker=\"AAPL\")"
   ]
  },
  {
   "cell_type": "code",
   "execution_count": 37,
   "metadata": {},
   "outputs": [
    {
     "data": {
      "text/plain": [
       "0.3"
      ]
     },
     "execution_count": 37,
     "metadata": {},
     "output_type": "execute_result"
    }
   ],
   "source": [
    "ptf1.nonzero_holdings[apple]"
   ]
  },
  {
   "cell_type": "code",
   "execution_count": 39,
   "metadata": {},
   "outputs": [
    {
     "data": {
      "text/plain": [
       "True"
      ]
     },
     "execution_count": 39,
     "metadata": {},
     "output_type": "execute_result"
    }
   ],
   "source": [
    "apple = Stock(ticker=\"AAPL\")\n",
    "apple.is_in_portfolio(portfolio=ptf1)"
   ]
  },
  {
   "cell_type": "code",
   "execution_count": 40,
   "metadata": {},
   "outputs": [
    {
     "data": {
      "text/plain": [
       "0.3"
      ]
     },
     "execution_count": 40,
     "metadata": {},
     "output_type": "execute_result"
    }
   ],
   "source": [
    "apple.get_weight_in_portfolio(portfolio=ptf1)"
   ]
  },
  {
   "cell_type": "code",
   "execution_count": 10,
   "metadata": {},
   "outputs": [
    {
     "data": {
      "text/plain": [
       "{AAPL: 0.3, MSFT: 0.3, GOOG: 0.4}"
      ]
     },
     "execution_count": 10,
     "metadata": {},
     "output_type": "execute_result"
    }
   ],
   "source": [
    "ptf1.nonzero_holdings"
   ]
  },
  {
   "cell_type": "code",
   "execution_count": 11,
   "metadata": {},
   "outputs": [
    {
     "data": {
      "text/plain": [
       "0.0"
      ]
     },
     "execution_count": 11,
     "metadata": {},
     "output_type": "execute_result"
    }
   ],
   "source": [
    "cash.get_weight_in_portfolio(portfolio=ptf1)"
   ]
  },
  {
   "cell_type": "code",
   "execution_count": 12,
   "metadata": {},
   "outputs": [
    {
     "data": {
      "text/plain": [
       "False"
      ]
     },
     "execution_count": 12,
     "metadata": {},
     "output_type": "execute_result"
    }
   ],
   "source": [
    "dollar = Cash(currency=\"USD\")\n",
    "from quantfin.portfolio_selection.portfolio import Portfolio\n",
    "ptf = Portfolio()\n",
    "dollar.is_in_portfolio(portfolio=ptf)"
   ]
  },
  {
   "cell_type": "code",
   "execution_count": 42,
   "metadata": {},
   "outputs": [
    {
     "data": {
      "text/plain": [
       "['Stocks', 'Bonds', 'Exchange Traded Funds', 'Currencies']"
      ]
     },
     "execution_count": 42,
     "metadata": {},
     "output_type": "execute_result"
    }
   ],
   "source": [
    "AssetClasses.list()"
   ]
  },
  {
   "cell_type": "code",
   "execution_count": 22,
   "metadata": {},
   "outputs": [
    {
     "data": {
      "text/plain": [
       "\"<class 'quantfin.market.assets.Stock'>, name = Apple Inc., ticker = AAPL\""
      ]
     },
     "execution_count": 22,
     "metadata": {},
     "output_type": "execute_result"
    }
   ],
   "source": [
    "apple = Stock(name=\"Apple Inc.\", ticker=\"AAPL\")\n",
    "repr(apple)"
   ]
  },
  {
   "cell_type": "code",
   "execution_count": 23,
   "metadata": {},
   "outputs": [
    {
     "name": "stdout",
     "output_type": "stream",
     "text": [
      "Apple Inc.\n"
     ]
    }
   ],
   "source": [
    "print(apple)"
   ]
  },
  {
   "cell_type": "code",
   "execution_count": 2,
   "metadata": {},
   "outputs": [],
   "source": [
    "import yfinance as yf"
   ]
  },
  {
   "cell_type": "code",
   "execution_count": 3,
   "metadata": {},
   "outputs": [],
   "source": [
    "msft = yf.Ticker(\"MSFT\")"
   ]
  },
  {
   "cell_type": "code",
   "execution_count": 4,
   "metadata": {},
   "outputs": [
    {
     "data": {
      "text/plain": [
       "'-'"
      ]
     },
     "execution_count": 4,
     "metadata": {},
     "output_type": "execute_result"
    }
   ],
   "source": [
    "msft.isin"
   ]
  },
  {
   "cell_type": "code",
   "execution_count": 5,
   "metadata": {},
   "outputs": [
    {
     "data": {
      "text/plain": [
       "[{'uuid': 'f7629db4-d8d7-3aa8-ad75-ab90533d4b27',\n",
       "  'title': 'Better Metaverse Stock: Nvidia or Unity?',\n",
       "  'publisher': 'Motley Fool',\n",
       "  'link': 'https://finance.yahoo.com/m/f7629db4-d8d7-3aa8-ad75-ab90533d4b27/better-metaverse-stock%3A.html',\n",
       "  'providerPublishTime': 1643280900,\n",
       "  'type': 'STORY'},\n",
       " {'uuid': '5fd37b6c-75e6-3cec-9e9c-723f57203668',\n",
       "  'title': 'Investors Are Getting More Nervous About Microsoft’s Activision Deal',\n",
       "  'publisher': 'Barrons.com',\n",
       "  'link': 'https://finance.yahoo.com/m/5fd37b6c-75e6-3cec-9e9c-723f57203668/investors-are-getting-more.html',\n",
       "  'providerPublishTime': 1643270400,\n",
       "  'type': 'STORY'},\n",
       " {'uuid': 'ebe17330-d1b5-3e48-b362-95bd6164d120',\n",
       "  'title': 'Dow Jones Futures Fall After Fed Chief Powell Wipes Out Market Gains; Tesla Leads Earnings Movers',\n",
       "  'publisher': \"Investor's Business Daily\",\n",
       "  'link': 'https://finance.yahoo.com/m/ebe17330-d1b5-3e48-b362-95bd6164d120/dow-jones-futures-fall-after.html',\n",
       "  'providerPublishTime': 1643252229,\n",
       "  'type': 'STORY'},\n",
       " {'uuid': 'a099f440-c123-346d-9002-5d645492fffc',\n",
       "  'title': 'Blue Bell Private Wealth Management, Llc Buys iShares Core S&P 500 ETF, Apple Inc, ...',\n",
       "  'publisher': 'GuruFocus.com',\n",
       "  'link': 'https://finance.yahoo.com/news/blue-bell-private-wealth-management-023805631.html',\n",
       "  'providerPublishTime': 1643251085,\n",
       "  'type': 'STORY'},\n",
       " {'uuid': 'e222ffe5-05cd-3e55-a6e2-f2612d30f40e',\n",
       "  'title': 'Why Microsoft Stock Climbed Today',\n",
       "  'publisher': 'Motley Fool',\n",
       "  'link': 'https://finance.yahoo.com/m/e222ffe5-05cd-3e55-a6e2-f2612d30f40e/why-microsoft-stock-climbed.html',\n",
       "  'providerPublishTime': 1643241780,\n",
       "  'type': 'STORY'},\n",
       " {'uuid': '3878c25d-ec4f-37c3-a4e6-901d857cd72e',\n",
       "  'title': 'Microsoft Azure is ‘gaining some ground on Amazon,’ strategist says',\n",
       "  'publisher': 'Yahoo Finance Video',\n",
       "  'link': 'https://finance.yahoo.com/video/microsoft-azure-gaining-ground-amazon-225533209.html',\n",
       "  'providerPublishTime': 1643237733,\n",
       "  'type': 'VIDEO'},\n",
       " {'uuid': '2151b6fa-50ef-3ccd-be5b-fea87551f7f6',\n",
       "  'title': 'Microsoft Beats Quarterly Estimates, Gives Upbeat Guidance',\n",
       "  'publisher': \"Investor's Business Daily\",\n",
       "  'link': 'https://finance.yahoo.com/m/2151b6fa-50ef-3ccd-be5b-fea87551f7f6/microsoft-beats-quarterly.html',\n",
       "  'providerPublishTime': 1643236854,\n",
       "  'type': 'STORY'},\n",
       " {'uuid': 'f8d186fc-dcc6-342a-b6e8-bacb1eb47405',\n",
       "  'title': 'Riverstone Advisors, LLC Buys DigitalOcean Holdings Inc, Apple Inc, Salesforce. ...',\n",
       "  'publisher': 'GuruFocus.com',\n",
       "  'link': 'https://finance.yahoo.com/news/riverstone-advisors-llc-buys-digitalocean-223827171.html',\n",
       "  'providerPublishTime': 1643236707,\n",
       "  'type': 'STORY'}]"
      ]
     },
     "execution_count": 5,
     "metadata": {},
     "output_type": "execute_result"
    }
   ],
   "source": [
    "msft.news"
   ]
  },
  {
   "cell_type": "code",
   "execution_count": 6,
   "metadata": {},
   "outputs": [
    {
     "data": {
      "text/html": [
       "<div>\n",
       "<style scoped>\n",
       "    .dataframe tbody tr th:only-of-type {\n",
       "        vertical-align: middle;\n",
       "    }\n",
       "\n",
       "    .dataframe tbody tr th {\n",
       "        vertical-align: top;\n",
       "    }\n",
       "\n",
       "    .dataframe thead th {\n",
       "        text-align: right;\n",
       "    }\n",
       "</style>\n",
       "<table border=\"1\" class=\"dataframe\">\n",
       "  <thead>\n",
       "    <tr style=\"text-align: right;\">\n",
       "      <th></th>\n",
       "      <th>Firm</th>\n",
       "      <th>To Grade</th>\n",
       "      <th>From Grade</th>\n",
       "      <th>Action</th>\n",
       "    </tr>\n",
       "    <tr>\n",
       "      <th>Date</th>\n",
       "      <th></th>\n",
       "      <th></th>\n",
       "      <th></th>\n",
       "      <th></th>\n",
       "    </tr>\n",
       "  </thead>\n",
       "  <tbody>\n",
       "    <tr>\n",
       "      <th>2012-03-16 08:19:00</th>\n",
       "      <td>Argus Research</td>\n",
       "      <td>Buy</td>\n",
       "      <td></td>\n",
       "      <td>up</td>\n",
       "    </tr>\n",
       "    <tr>\n",
       "      <th>2012-03-19 14:00:00</th>\n",
       "      <td>Hilliard Lyons</td>\n",
       "      <td>Long-Term Buy</td>\n",
       "      <td></td>\n",
       "      <td>main</td>\n",
       "    </tr>\n",
       "    <tr>\n",
       "      <th>2012-03-22 07:03:00</th>\n",
       "      <td>Morgan Stanley</td>\n",
       "      <td>Overweight</td>\n",
       "      <td></td>\n",
       "      <td>main</td>\n",
       "    </tr>\n",
       "    <tr>\n",
       "      <th>2012-04-03 11:53:00</th>\n",
       "      <td>UBS</td>\n",
       "      <td>Buy</td>\n",
       "      <td></td>\n",
       "      <td>main</td>\n",
       "    </tr>\n",
       "    <tr>\n",
       "      <th>2012-04-20 06:18:00</th>\n",
       "      <td>Deutsche Bank</td>\n",
       "      <td>Buy</td>\n",
       "      <td></td>\n",
       "      <td>main</td>\n",
       "    </tr>\n",
       "    <tr>\n",
       "      <th>...</th>\n",
       "      <td>...</td>\n",
       "      <td>...</td>\n",
       "      <td>...</td>\n",
       "      <td>...</td>\n",
       "    </tr>\n",
       "    <tr>\n",
       "      <th>2022-01-03 20:23:49</th>\n",
       "      <td>Keybanc</td>\n",
       "      <td>Overweight</td>\n",
       "      <td></td>\n",
       "      <td>main</td>\n",
       "    </tr>\n",
       "    <tr>\n",
       "      <th>2022-01-26 14:06:23</th>\n",
       "      <td>BMO Capital</td>\n",
       "      <td>Outperform</td>\n",
       "      <td></td>\n",
       "      <td>main</td>\n",
       "    </tr>\n",
       "    <tr>\n",
       "      <th>2022-01-26 14:42:40</th>\n",
       "      <td>Oppenheimer</td>\n",
       "      <td>Outperform</td>\n",
       "      <td></td>\n",
       "      <td>main</td>\n",
       "    </tr>\n",
       "    <tr>\n",
       "      <th>2022-01-26 15:03:00</th>\n",
       "      <td>Morgan Stanley</td>\n",
       "      <td>Overweight</td>\n",
       "      <td></td>\n",
       "      <td>main</td>\n",
       "    </tr>\n",
       "    <tr>\n",
       "      <th>2022-01-26 15:06:01</th>\n",
       "      <td>Citigroup</td>\n",
       "      <td>Buy</td>\n",
       "      <td></td>\n",
       "      <td>main</td>\n",
       "    </tr>\n",
       "  </tbody>\n",
       "</table>\n",
       "<p>365 rows × 4 columns</p>\n",
       "</div>"
      ],
      "text/plain": [
       "                               Firm       To Grade From Grade Action\n",
       "Date                                                                \n",
       "2012-03-16 08:19:00  Argus Research            Buy                up\n",
       "2012-03-19 14:00:00  Hilliard Lyons  Long-Term Buy              main\n",
       "2012-03-22 07:03:00  Morgan Stanley     Overweight              main\n",
       "2012-04-03 11:53:00             UBS            Buy              main\n",
       "2012-04-20 06:18:00   Deutsche Bank            Buy              main\n",
       "...                             ...            ...        ...    ...\n",
       "2022-01-03 20:23:49         Keybanc     Overweight              main\n",
       "2022-01-26 14:06:23     BMO Capital     Outperform              main\n",
       "2022-01-26 14:42:40     Oppenheimer     Outperform              main\n",
       "2022-01-26 15:03:00  Morgan Stanley     Overweight              main\n",
       "2022-01-26 15:06:01       Citigroup            Buy              main\n",
       "\n",
       "[365 rows x 4 columns]"
      ]
     },
     "execution_count": 6,
     "metadata": {},
     "output_type": "execute_result"
    }
   ],
   "source": [
    "msft.recommendations"
   ]
  },
  {
   "cell_type": "code",
   "execution_count": 12,
   "metadata": {},
   "outputs": [
    {
     "data": {
      "text/plain": [
       "dict_keys(['zip', 'sector', 'fullTimeEmployees', 'longBusinessSummary', 'city', 'phone', 'state', 'country', 'companyOfficers', 'website', 'maxAge', 'address1', 'industry', 'ebitdaMargins', 'profitMargins', 'grossMargins', 'operatingCashflow', 'revenueGrowth', 'operatingMargins', 'ebitda', 'targetLowPrice', 'recommendationKey', 'grossProfits', 'freeCashflow', 'targetMedianPrice', 'currentPrice', 'earningsGrowth', 'currentRatio', 'returnOnAssets', 'numberOfAnalystOpinions', 'targetMeanPrice', 'debtToEquity', 'returnOnEquity', 'targetHighPrice', 'totalCash', 'totalDebt', 'totalRevenue', 'totalCashPerShare', 'financialCurrency', 'revenuePerShare', 'quickRatio', 'recommendationMean', 'exchange', 'shortName', 'longName', 'exchangeTimezoneName', 'exchangeTimezoneShortName', 'isEsgPopulated', 'gmtOffSetMilliseconds', 'quoteType', 'symbol', 'messageBoardId', 'market', 'annualHoldingsTurnover', 'enterpriseToRevenue', 'beta3Year', 'enterpriseToEbitda', '52WeekChange', 'morningStarRiskRating', 'forwardEps', 'revenueQuarterlyGrowth', 'sharesOutstanding', 'fundInceptionDate', 'annualReportExpenseRatio', 'totalAssets', 'bookValue', 'sharesShort', 'sharesPercentSharesOut', 'fundFamily', 'lastFiscalYearEnd', 'heldPercentInstitutions', 'netIncomeToCommon', 'trailingEps', 'lastDividendValue', 'SandP52WeekChange', 'priceToBook', 'heldPercentInsiders', 'nextFiscalYearEnd', 'yield', 'mostRecentQuarter', 'shortRatio', 'sharesShortPreviousMonthDate', 'floatShares', 'beta', 'enterpriseValue', 'priceHint', 'threeYearAverageReturn', 'lastSplitDate', 'lastSplitFactor', 'legalType', 'lastDividendDate', 'morningStarOverallRating', 'earningsQuarterlyGrowth', 'priceToSalesTrailing12Months', 'dateShortInterest', 'pegRatio', 'ytdReturn', 'forwardPE', 'lastCapGain', 'shortPercentOfFloat', 'sharesShortPriorMonth', 'impliedSharesOutstanding', 'category', 'fiveYearAverageReturn', 'previousClose', 'regularMarketOpen', 'twoHundredDayAverage', 'trailingAnnualDividendYield', 'payoutRatio', 'volume24Hr', 'regularMarketDayHigh', 'navPrice', 'averageDailyVolume10Day', 'regularMarketPreviousClose', 'fiftyDayAverage', 'trailingAnnualDividendRate', 'open', 'toCurrency', 'averageVolume10days', 'expireDate', 'algorithm', 'dividendRate', 'exDividendDate', 'circulatingSupply', 'startDate', 'regularMarketDayLow', 'currency', 'trailingPE', 'regularMarketVolume', 'lastMarket', 'maxSupply', 'openInterest', 'marketCap', 'volumeAllCurrencies', 'strikePrice', 'averageVolume', 'dayLow', 'ask', 'askSize', 'volume', 'fiftyTwoWeekHigh', 'fromCurrency', 'fiveYearAvgDividendYield', 'fiftyTwoWeekLow', 'bid', 'tradeable', 'dividendYield', 'bidSize', 'dayHigh', 'regularMarketPrice', 'preMarketPrice', 'logo_url', 'trailingPegRatio'])"
      ]
     },
     "execution_count": 12,
     "metadata": {},
     "output_type": "execute_result"
    }
   ],
   "source": [
    "msft.info.keys()"
   ]
  },
  {
   "cell_type": "code",
   "execution_count": 11,
   "metadata": {},
   "outputs": [
    {
     "data": {
      "text/plain": [
       "7496869888"
      ]
     },
     "execution_count": 11,
     "metadata": {},
     "output_type": "execute_result"
    }
   ],
   "source": [
    "msft.info[\"sharesOutstanding\"]"
   ]
  }
 ],
 "metadata": {
  "interpreter": {
   "hash": "8150955d77e924e2884a1f34e663e1836e01764b0e39ecce19bda51f25622743"
  },
  "kernelspec": {
   "display_name": "Python 3.9.7 64-bit ('py-quant-fin-d8An81W4-py3.9': poetry)",
   "language": "python",
   "name": "python3"
  },
  "language_info": {
   "codemirror_mode": {
    "name": "ipython",
    "version": 3
   },
   "file_extension": ".py",
   "mimetype": "text/x-python",
   "name": "python",
   "nbconvert_exporter": "python",
   "pygments_lexer": "ipython3",
   "version": "3.9.7"
  },
  "orig_nbformat": 4
 },
 "nbformat": 4,
 "nbformat_minor": 2
}
