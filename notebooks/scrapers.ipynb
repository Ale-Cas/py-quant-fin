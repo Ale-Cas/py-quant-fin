{
 "cells": [
  {
   "cell_type": "code",
   "execution_count": 16,
   "metadata": {},
   "outputs": [
    {
     "name": "stdout",
     "output_type": "stream",
     "text": [
      "The autoreload extension is already loaded. To reload it, use:\n",
      "  %reload_ext autoreload\n"
     ]
    }
   ],
   "source": [
    "%load_ext autoreload\n",
    "%autoreload 2"
   ]
  },
  {
   "cell_type": "code",
   "execution_count": 2,
   "metadata": {},
   "outputs": [],
   "source": [
    "from typing import List\n",
    "from bs4 import BeautifulSoup\n",
    "import requests"
   ]
  },
  {
   "cell_type": "code",
   "execution_count": 30,
   "metadata": {},
   "outputs": [],
   "source": [
    "import pandas as pd"
   ]
  },
  {
   "cell_type": "code",
   "execution_count": 45,
   "metadata": {},
   "outputs": [],
   "source": [
    "def scrape_largest_companies(num_pages: int= 58) -> pd.DataFrame:\n",
    "    \"\"\"Scrapes name, ticker symbols and country of top companies based on market cap.\n",
    "    \n",
    "    Parameters\n",
    "    ----------\n",
    "    num_pages: int\n",
    "        number of pages to scrape, each page has 100 symbols, max is \n",
    "    \n",
    "    Returns\n",
    "    -------\n",
    "        A pandas DataFrame\n",
    "    \"\"\"\n",
    "    list_tickers = []\n",
    "    list_names = []\n",
    "    list_countries = []\n",
    "    if num_pages == 1:\n",
    "        url = 'https://companiesmarketcap.com/'\n",
    "        html = requests.get(url).text\n",
    "        soup = BeautifulSoup(html, 'html.parser')\n",
    "        list_tickers = [e.text for e in soup.select('div.company-code')]\n",
    "    else: \n",
    "        for num_page in range(num_pages):\n",
    "            url = f\"https://companiesmarketcap.com/page/{num_page+1}/\"\n",
    "            html = requests.get(url).text\n",
    "            soup = BeautifulSoup(html, 'html.parser')\n",
    "            list_ticker_page = [e.text for e in soup.select('div.company-code')]\n",
    "            list_names_page = [e.text for e in soup.select('div.company-name')]\n",
    "            list_countries_page = [e.text for e in soup.select('span.responsive-hidden')]\n",
    "            list_countries_page = list_countries_page[1:]\n",
    "            list_tickers = list_tickers + list_ticker_page\n",
    "            list_names = list_names + list_names_page \n",
    "            list_countries = list_countries + list_countries_page\n",
    "            companies_dict = {\n",
    "        \"ticker\": list_tickers,\n",
    "        \"name\": list_names,\n",
    "        \"country\": list_countries,\n",
    "    }\n",
    "            \n",
    "    return pd.DataFrame(companies_dict, columns=companies_dict.keys())"
   ]
  },
  {
   "cell_type": "code",
   "execution_count": 47,
   "metadata": {},
   "outputs": [],
   "source": [
    "assets_df = scrape_largest_companies()"
   ]
  },
  {
   "cell_type": "code",
   "execution_count": 52,
   "metadata": {},
   "outputs": [
    {
     "data": {
      "text/html": [
       "<div>\n",
       "<style scoped>\n",
       "    .dataframe tbody tr th:only-of-type {\n",
       "        vertical-align: middle;\n",
       "    }\n",
       "\n",
       "    .dataframe tbody tr th {\n",
       "        vertical-align: top;\n",
       "    }\n",
       "\n",
       "    .dataframe thead th {\n",
       "        text-align: right;\n",
       "    }\n",
       "</style>\n",
       "<table border=\"1\" class=\"dataframe\">\n",
       "  <thead>\n",
       "    <tr style=\"text-align: right;\">\n",
       "      <th></th>\n",
       "      <th>ticker</th>\n",
       "      <th>name</th>\n",
       "      <th>country</th>\n",
       "      <th>is_etf</th>\n",
       "    </tr>\n",
       "  </thead>\n",
       "  <tbody>\n",
       "    <tr>\n",
       "      <th>0</th>\n",
       "      <td>AAPL</td>\n",
       "      <td>Apple</td>\n",
       "      <td>USA</td>\n",
       "      <td>False</td>\n",
       "    </tr>\n",
       "    <tr>\n",
       "      <th>1</th>\n",
       "      <td>MSFT</td>\n",
       "      <td>Microsoft</td>\n",
       "      <td>USA</td>\n",
       "      <td>False</td>\n",
       "    </tr>\n",
       "    <tr>\n",
       "      <th>2</th>\n",
       "      <td>2222.SR</td>\n",
       "      <td>Saudi Aramco</td>\n",
       "      <td>S. Arabia</td>\n",
       "      <td>False</td>\n",
       "    </tr>\n",
       "    <tr>\n",
       "      <th>3</th>\n",
       "      <td>GOOG</td>\n",
       "      <td>Alphabet (Google)</td>\n",
       "      <td>USA</td>\n",
       "      <td>False</td>\n",
       "    </tr>\n",
       "    <tr>\n",
       "      <th>4</th>\n",
       "      <td>AMZN</td>\n",
       "      <td>Amazon</td>\n",
       "      <td>USA</td>\n",
       "      <td>False</td>\n",
       "    </tr>\n",
       "    <tr>\n",
       "      <th>...</th>\n",
       "      <td>...</td>\n",
       "      <td>...</td>\n",
       "      <td>...</td>\n",
       "      <td>...</td>\n",
       "    </tr>\n",
       "    <tr>\n",
       "      <th>5744</th>\n",
       "      <td>JW</td>\n",
       "      <td>Justworks</td>\n",
       "      <td>USA</td>\n",
       "      <td>False</td>\n",
       "    </tr>\n",
       "    <tr>\n",
       "      <th>5745</th>\n",
       "      <td>RHDM</td>\n",
       "      <td>Rhodium Enterprises</td>\n",
       "      <td>USA</td>\n",
       "      <td>False</td>\n",
       "    </tr>\n",
       "    <tr>\n",
       "      <th>5746</th>\n",
       "      <td>SMSA</td>\n",
       "      <td>Samsara Vision</td>\n",
       "      <td>USA</td>\n",
       "      <td>False</td>\n",
       "    </tr>\n",
       "    <tr>\n",
       "      <th>5747</th>\n",
       "      <td>VDNT</td>\n",
       "      <td>Verdant Earth Technologies</td>\n",
       "      <td>Australia</td>\n",
       "      <td>False</td>\n",
       "    </tr>\n",
       "    <tr>\n",
       "      <th>5748</th>\n",
       "      <td>CORZ</td>\n",
       "      <td>Core Scientific</td>\n",
       "      <td>USA</td>\n",
       "      <td>False</td>\n",
       "    </tr>\n",
       "  </tbody>\n",
       "</table>\n",
       "<p>5749 rows × 4 columns</p>\n",
       "</div>"
      ],
      "text/plain": [
       "       ticker                        name    country  is_etf\n",
       "0        AAPL                       Apple        USA   False\n",
       "1        MSFT                   Microsoft        USA   False\n",
       "2     2222.SR                Saudi Aramco  S. Arabia   False\n",
       "3        GOOG           Alphabet (Google)        USA   False\n",
       "4        AMZN                      Amazon        USA   False\n",
       "...       ...                         ...        ...     ...\n",
       "5744       JW                   Justworks        USA   False\n",
       "5745     RHDM         Rhodium Enterprises        USA   False\n",
       "5746     SMSA              Samsara Vision        USA   False\n",
       "5747     VDNT  Verdant Earth Technologies  Australia   False\n",
       "5748     CORZ             Core Scientific        USA   False\n",
       "\n",
       "[5749 rows x 4 columns]"
      ]
     },
     "execution_count": 52,
     "metadata": {},
     "output_type": "execute_result"
    }
   ],
   "source": [
    "assets_df"
   ]
  },
  {
   "cell_type": "code",
   "execution_count": 51,
   "metadata": {},
   "outputs": [],
   "source": [
    "assets_df[\"is_etf\"]=[False for _ in range(len(assets_df.index))]"
   ]
  },
  {
   "cell_type": "code",
   "execution_count": 43,
   "metadata": {},
   "outputs": [
    {
     "data": {
      "text/plain": [
       "dict_keys(['zip', 'sector', 'fullTimeEmployees', 'longBusinessSummary', 'city', 'phone', 'state', 'country', 'companyOfficers', 'website', 'maxAge', 'address1', 'industry', 'ebitdaMargins', 'profitMargins', 'grossMargins', 'operatingCashflow', 'revenueGrowth', 'operatingMargins', 'ebitda', 'targetLowPrice', 'recommendationKey', 'grossProfits', 'freeCashflow', 'targetMedianPrice', 'currentPrice', 'earningsGrowth', 'currentRatio', 'returnOnAssets', 'numberOfAnalystOpinions', 'targetMeanPrice', 'debtToEquity', 'returnOnEquity', 'targetHighPrice', 'totalCash', 'totalDebt', 'totalRevenue', 'totalCashPerShare', 'financialCurrency', 'revenuePerShare', 'quickRatio', 'recommendationMean', 'exchange', 'shortName', 'longName', 'exchangeTimezoneName', 'exchangeTimezoneShortName', 'isEsgPopulated', 'gmtOffSetMilliseconds', 'quoteType', 'symbol', 'messageBoardId', 'market', 'annualHoldingsTurnover', 'enterpriseToRevenue', 'beta3Year', 'enterpriseToEbitda', '52WeekChange', 'morningStarRiskRating', 'forwardEps', 'revenueQuarterlyGrowth', 'sharesOutstanding', 'fundInceptionDate', 'annualReportExpenseRatio', 'totalAssets', 'bookValue', 'sharesShort', 'sharesPercentSharesOut', 'fundFamily', 'lastFiscalYearEnd', 'heldPercentInstitutions', 'netIncomeToCommon', 'trailingEps', 'lastDividendValue', 'SandP52WeekChange', 'priceToBook', 'heldPercentInsiders', 'nextFiscalYearEnd', 'yield', 'mostRecentQuarter', 'shortRatio', 'sharesShortPreviousMonthDate', 'floatShares', 'beta', 'enterpriseValue', 'priceHint', 'threeYearAverageReturn', 'lastSplitDate', 'lastSplitFactor', 'legalType', 'lastDividendDate', 'morningStarOverallRating', 'earningsQuarterlyGrowth', 'priceToSalesTrailing12Months', 'dateShortInterest', 'pegRatio', 'ytdReturn', 'forwardPE', 'lastCapGain', 'shortPercentOfFloat', 'sharesShortPriorMonth', 'impliedSharesOutstanding', 'category', 'fiveYearAverageReturn', 'previousClose', 'regularMarketOpen', 'twoHundredDayAverage', 'trailingAnnualDividendYield', 'payoutRatio', 'volume24Hr', 'regularMarketDayHigh', 'navPrice', 'averageDailyVolume10Day', 'regularMarketPreviousClose', 'fiftyDayAverage', 'trailingAnnualDividendRate', 'open', 'toCurrency', 'averageVolume10days', 'expireDate', 'algorithm', 'dividendRate', 'exDividendDate', 'circulatingSupply', 'startDate', 'regularMarketDayLow', 'currency', 'trailingPE', 'regularMarketVolume', 'lastMarket', 'maxSupply', 'openInterest', 'marketCap', 'volumeAllCurrencies', 'strikePrice', 'averageVolume', 'dayLow', 'ask', 'askSize', 'volume', 'fiftyTwoWeekHigh', 'fromCurrency', 'fiveYearAvgDividendYield', 'fiftyTwoWeekLow', 'bid', 'tradeable', 'dividendYield', 'bidSize', 'dayHigh', 'regularMarketPrice', 'preMarketPrice', 'logo_url', 'trailingPegRatio'])"
      ]
     },
     "execution_count": 43,
     "metadata": {},
     "output_type": "execute_result"
    }
   ],
   "source": [
    "import yfinance as yf\n",
    "msft = yf.Ticker(\"MSFT\")\n",
    "msft.info.keys()"
   ]
  }
 ],
 "metadata": {
  "interpreter": {
   "hash": "8150955d77e924e2884a1f34e663e1836e01764b0e39ecce19bda51f25622743"
  },
  "kernelspec": {
   "display_name": "Python 3.9.7 64-bit ('py-quant-fin-d8An81W4-py3.9': poetry)",
   "language": "python",
   "name": "python3"
  },
  "language_info": {
   "codemirror_mode": {
    "name": "ipython",
    "version": 3
   },
   "file_extension": ".py",
   "mimetype": "text/x-python",
   "name": "python",
   "nbconvert_exporter": "python",
   "pygments_lexer": "ipython3",
   "version": "3.9.7"
  },
  "orig_nbformat": 4
 },
 "nbformat": 4,
 "nbformat_minor": 2
}
